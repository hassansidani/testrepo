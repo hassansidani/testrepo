{
 "cells": [
  {
   "cell_type": "markdown",
   "id": "abb07d94",
   "metadata": {},
   "source": [
    "# Data Science Tools and Ecosystem"
   ]
  },
  {
   "cell_type": "markdown",
   "id": "2405e82d",
   "metadata": {},
   "source": [
    "In this notebook, Data Science Tools and Ecosystem are summarized.\n"
   ]
  },
  {
   "cell_type": "markdown",
   "id": "c8c7a14a",
   "metadata": {},
   "source": [
    "**Objectives:**"
   ]
  },
  {
   "cell_type": "markdown",
   "id": "ea8a3939",
   "metadata": {},
   "source": [
    "+ list popular language for data science \n",
    "+ Some libraries used by Data Scientists\n",
    "+ and some the populare language for data science\n"
   ]
  },
  {
   "cell_type": "markdown",
   "id": "4311916f",
   "metadata": {},
   "source": [
    "Some of the popular languages that Data Scientists use are:\n"
   ]
  },
  {
   "cell_type": "markdown",
   "id": "d97de94f",
   "metadata": {},
   "source": [
    "1. Python \n",
    "2. R \n",
    "3.  SQL "
   ]
  },
  {
   "cell_type": "markdown",
   "id": "a263fc33",
   "metadata": {},
   "source": [
    "Some of the commonly used libraries used by Data Scientists include:\n"
   ]
  },
  {
   "cell_type": "markdown",
   "id": "e52f829f",
   "metadata": {},
   "source": [
    "1. NumPy. \n",
    "2. Keras. \n",
    "3. Pandas. \n",
    "4. PyTorch."
   ]
  },
  {
   "cell_type": "markdown",
   "id": "d62e3b3c",
   "metadata": {},
   "source": [
    "|Data Science Tools|\n",
    "|--------------|\n",
    "|Jupyter Notebook|\n",
    "|rstudio|\n",
    "|tableau|\n",
    "\n"
   ]
  },
  {
   "cell_type": "markdown",
   "id": "8532b672",
   "metadata": {},
   "source": [
    "### Below are a few examples of evaluating arithmetic expressions in Python.\n"
   ]
  },
  {
   "cell_type": "code",
   "execution_count": 5,
   "id": "fff72f9b",
   "metadata": {},
   "outputs": [
    {
     "data": {
      "text/plain": [
       "17"
      ]
     },
     "execution_count": 5,
     "metadata": {},
     "output_type": "execute_result"
    }
   ],
   "source": [
    "# This a simple arithmetic expression to mutiply then add integers.\n",
    "(3*4)+5"
   ]
  },
  {
   "cell_type": "code",
   "execution_count": 6,
   "id": "ea8dcfd1",
   "metadata": {},
   "outputs": [
    {
     "data": {
      "text/plain": [
       "3.3333333333333335"
      ]
     },
     "execution_count": 6,
     "metadata": {},
     "output_type": "execute_result"
    }
   ],
   "source": [
    "# This will convert 200 minutes to hours by diving by 60.\n",
    "200/60"
   ]
  },
  {
   "cell_type": "markdown",
   "id": "4259c422",
   "metadata": {},
   "source": [
    "## Author"
   ]
  },
  {
   "cell_type": "markdown",
   "id": "7085f7a6",
   "metadata": {},
   "source": [
    "HASSAN SIDANI"
   ]
  },
  {
   "cell_type": "code",
   "execution_count": null,
   "id": "e711521c",
   "metadata": {},
   "outputs": [],
   "source": []
  }
 ],
 "metadata": {
  "kernelspec": {
   "display_name": "Python 3 (ipykernel)",
   "language": "python",
   "name": "python3"
  },
  "language_info": {
   "codemirror_mode": {
    "name": "ipython",
    "version": 3
   },
   "file_extension": ".py",
   "mimetype": "text/x-python",
   "name": "python",
   "nbconvert_exporter": "python",
   "pygments_lexer": "ipython3",
   "version": "3.11.5"
  }
 },
 "nbformat": 4,
 "nbformat_minor": 5
}
